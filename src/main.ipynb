{
 "cells": [
  {
   "cell_type": "code",
   "execution_count": null,
   "metadata": {},
   "outputs": [],
   "source": [
    "import os\n",
    "from IPython.core.getipython import get_ipython\n",
    "\n",
    "os.chdir(os.path.join(get_ipython().starting_dir, '..'))\n",
    "\n",
    "import wandb\n",
    "from dotenv import load_dotenv\n",
    "import logging\n",
    "import coloredlogs\n",
    "from experiment.experiments import Experiment, ExperimentGroup\n",
    "from options import Options\n",
    "\n",
    "load_dotenv()\n",
    "wandb.login()\n",
    "logging.basicConfig(level=logging.INFO)\n",
    "coloredlogs.install(level='INFO')\n",
    "\n",
    "experiment = ExperimentGroup('testing-egg', [\n",
    "    Experiment(Options(experiment='both', game_size=5, max_len=6, vocab_size=55, n_epochs=100, sender_target_only=True, systemic_distractors=False, enable_analysis=False)),\n",
    "])\n",
    "\n",
    "experiment.run()\n",
    "experiment.plot_dataframe()"
   ]
  }
 ],
 "metadata": {
  "kernelspec": {
   "display_name": ".venv",
   "language": "python",
   "name": "python3"
  },
  "language_info": {
   "codemirror_mode": {
    "name": "ipython",
    "version": 3
   },
   "file_extension": ".py",
   "mimetype": "text/x-python",
   "name": "python",
   "nbconvert_exporter": "python",
   "pygments_lexer": "ipython3",
   "version": "3.11.3"
  }
 },
 "nbformat": 4,
 "nbformat_minor": 2
}
